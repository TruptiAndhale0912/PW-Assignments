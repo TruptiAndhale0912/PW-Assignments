{
 "cells": [
  {
   "cell_type": "raw",
   "id": "23232c63-9c6e-4bcb-937c-1a94434691a7",
   "metadata": {},
   "source": [
    "Q1. Explain Class and Object with respect to Object-Oriented Programming. Give a suitable example.\n",
    "Answer:\n",
    "Class: Think of it as a blueprint or a plan for something. For instance, if you want to build a house, the architectural drawings that specify how the house should be constructed are like a class.\n",
    "Object: Now, an object is like the actual house that you build based on the architectural drawings (the class). Each house you build will have the same basic structure (defined by the class) but can have its own unique features, like interior decoration and furniture.\n",
    "Example:\n",
    "Imagine we have a class called \"Car\" that describes what a car is and can do:"
   ]
  },
  {
   "cell_type": "code",
   "execution_count": 2,
   "id": "05125bd4-33ae-4234-9963-d13db96e9f15",
   "metadata": {},
   "outputs": [
    {
     "name": "stdout",
     "output_type": "stream",
     "text": [
      "The Toyota Camry is starting.\n",
      "The Honda Civic is starting.\n"
     ]
    }
   ],
   "source": [
    "class Car:\n",
    "    def __init__(self, make, model):\n",
    "        self.make = make\n",
    "        self.model = model\n",
    "    \n",
    "    def start(self):\n",
    "        return f\"The {self.make} {self.model} is starting.\"\n",
    "\n",
    "# two car objects based on this class:\n",
    "car1 = Car(\"Toyota\", \"Camry\")\n",
    "car2 = Car(\"Honda\", \"Civic\")\n",
    "\n",
    "# car1 and car2 are like two actual cars we've built using the \"Car\" blueprint.\n",
    "# They have different makes and models but share the same structure and abilities.\n",
    "print(car1.start())  \n",
    "print(car2.start())  \n"
   ]
  },
  {
   "cell_type": "raw",
   "id": "e57235c7-5d44-4c34-85c0-4f25abdf0476",
   "metadata": {},
   "source": [
    "Q2. Name the four pillars of OOPs.\n",
    "Answer:\n",
    "1. Encapsulation: It's like putting your data (information) and the actions (tasks) that can be done with that data inside a box. You can control who can access and change what's inside the box, keeping your data safe and organized.\n",
    "\n",
    "2. Inheritance: Imagine you have a toy, and you want to make a similar toy with some extra features. Instead of starting from scratch, you can use the first toy as a base and add the new features. Inheritance is like getting characteristics from a parent or a blueprint.\n",
    "\n",
    "3. Polymorphism: Think of it as the ability of different things to act in their own unique ways while still being part of the same group. For example, animals can make sounds, but each animal makes a different sound. Polymorphism is like this flexibility in behavior.\n",
    "\n",
    "4. Abstraction: Abstraction is like looking at a car and knowing that it has a steering wheel, pedals, and buttons, without needing to understand every detail of how the engine works. It's about simplifying complex things so that you can work with them easily.\n"
   ]
  },
  {
   "cell_type": "raw",
   "id": "630c773d-f954-48dd-99a2-b6e4a140bd4c",
   "metadata": {},
   "source": [
    "Q3. Explain why the __init__() function is used. Give a suitable example.\n",
    "Answer:\n",
    "The __init__() function in Python is used to initialize or set up the initial state of an object when you create an instance (an object) of a class. It's like a constructor in other programming languages and is automatically called when you create a new object from a class.\n",
    "\n",
    "Here's a simple explanation with an example:\n",
    "Imagine you have a blueprint for making cars (a class called Car). Each car you make should have certain characteristics like its color, make, and model. The __init__() function helps you set these characteristics when you create a new car (an instance of the Car class)."
   ]
  },
  {
   "cell_type": "code",
   "execution_count": 3,
   "id": "affec091-70d3-4d14-9e64-99703c435688",
   "metadata": {},
   "outputs": [],
   "source": [
    "class Car:\n",
    "    # The __init__() function is like a setup function\n",
    "    def __init__(self, color, make, model):\n",
    "        self.color = color  \n",
    "        self.make = make    \n",
    "        self.model = model  \n",
    "\n",
    "my_car = Car(\"Blue\", \"Toyota\", \"Camry\")"
   ]
  },
  {
   "cell_type": "raw",
   "id": "b4b14a0e-6cf3-4478-b308-ca3099a1b947",
   "metadata": {},
   "source": [
    "Q4. Why self is used in OOPs?\n",
    "Answer:\n",
    "In object-oriented programming (OOP), self is used to refer to the instance of a class within that class. It's like a way for an object to talk about itself.\n",
    "Here's a simple explanation:\n",
    "-self helps an object keep track of its own data and perform actions related to itself.\n",
    "-It's like a label that says, \"I am this car\" or \"I am this object,\" so you can access and manipulate your own data and behaviors.\n",
    "Here's a simple example:"
   ]
  },
  {
   "cell_type": "code",
   "execution_count": 7,
   "id": "706703c7-ce56-4614-9841-c87eca1947ae",
   "metadata": {},
   "outputs": [
    {
     "name": "stdout",
     "output_type": "stream",
     "text": [
      "This car is Blue, made by Toyota, and is a Camry model.\n"
     ]
    }
   ],
   "source": [
    "class Car:\n",
    "    def __init__(self, color, make, model):\n",
    "        self.color = color  \n",
    "        self.make = make    \n",
    "        self.model = model  \n",
    "    \n",
    "    def describe(self):\n",
    "        return f\"This car is {self.color}, made by {self.make}, and is a {self.model} model.\"\n",
    "    \n",
    "my_car = Car(\"Blue\", \"Toyota\", \"Camry\")\n",
    "\n",
    "print(my_car.describe())\n"
   ]
  },
  {
   "cell_type": "raw",
   "id": "7b395651-c732-4059-a731-0f1d0f4370d9",
   "metadata": {},
   "source": [
    "Q5. What is inheritance? Give an example for each type of inheritance.\n",
    "Answer:\n",
    "Inheritance in object-oriented programming (OOP) is a mechanism that allows you to create a new class (called a derived or subclass) based on an existing class (called a base or superclass). The new class inherits attributes and behaviors (fields and methods) from the existing class. This promotes code reuse and establishes a hierarchy of classes.\n",
    "\n",
    "There are several types of inheritance in OOP:\n",
    "\n",
    "1. Single Inheritance: In this type, a derived class inherits from a single base class.\n",
    "Example:"
   ]
  },
  {
   "cell_type": "code",
   "execution_count": 8,
   "id": "ded8fea9-0174-4083-b0f1-8c3c8ee746af",
   "metadata": {},
   "outputs": [],
   "source": [
    "class Animal:\n",
    "    def speak(self):\n",
    "        pass\n",
    "\n",
    "class Dog(Animal):\n",
    "    def speak(self):\n",
    "        return \"Woof!\""
   ]
  },
  {
   "cell_type": "raw",
   "id": "347755cb-508a-450c-a130-afe462d2e10f",
   "metadata": {},
   "source": [
    "2. Multiple Inheritance: A derived class inherits from more than one base class. This allows it to inherit attributes and behaviors from multiple sources.\n",
    "Example:"
   ]
  },
  {
   "cell_type": "code",
   "execution_count": 9,
   "id": "7d714645-7f63-4427-8e06-c8fa7c5056f4",
   "metadata": {},
   "outputs": [],
   "source": [
    "class Bird:\n",
    "    def fly(self):\n",
    "        pass\n",
    "\n",
    "class Mammal:\n",
    "    def walk(self):\n",
    "        pass\n",
    "\n",
    "class Bat(Bird, Mammal):\n",
    "    pass"
   ]
  },
  {
   "cell_type": "raw",
   "id": "b952f2ae-b697-497a-929d-e440f3a84026",
   "metadata": {},
   "source": [
    "3. Multilevel Inheritance: A derived class inherits from a base class, and another class inherits from this derived class, forming a chain.\n",
    "Example:"
   ]
  },
  {
   "cell_type": "code",
   "execution_count": 10,
   "id": "334cc08f-c211-4094-8f89-4a4962859a11",
   "metadata": {},
   "outputs": [],
   "source": [
    "class A:\n",
    "    def method_A(self):\n",
    "        pass\n",
    "\n",
    "class B(A):\n",
    "    def method_B(self):\n",
    "        pass\n",
    "\n",
    "class C(B):\n",
    "    def method_C(self):\n",
    "        pass"
   ]
  },
  {
   "cell_type": "raw",
   "id": "047c890e-0a9b-443c-86cf-51c5f6136233",
   "metadata": {},
   "source": [
    "4. Hierarchical Inheritance: Multiple derived classes inherit from a single base class.\n",
    "Example:"
   ]
  },
  {
   "cell_type": "code",
   "execution_count": 11,
   "id": "7231c59d-5d62-4560-8d3a-d663cbc5e60c",
   "metadata": {},
   "outputs": [],
   "source": [
    "class Vehicle:\n",
    "    def drive(self):\n",
    "        pass\n",
    "\n",
    "class Car(Vehicle):\n",
    "    def park(self):\n",
    "        pass\n",
    "\n",
    "class Truck(Vehicle):\n",
    "    def load(self):\n",
    "        pass"
   ]
  },
  {
   "cell_type": "raw",
   "id": "1bd6f7fd-fd25-4285-b184-460a0ebcd4e2",
   "metadata": {},
   "source": [
    "Hybrid Inheritance: A combination of different types of inheritance in a single program.\n",
    "Example:"
   ]
  },
  {
   "cell_type": "code",
   "execution_count": 12,
   "id": "c70c56d9-667d-497a-8200-3f14e2916332",
   "metadata": {},
   "outputs": [],
   "source": [
    "class A:\n",
    "    pass\n",
    "\n",
    "class B(A):\n",
    "    pass\n",
    "\n",
    "class C(A):\n",
    "    pass\n",
    "\n",
    "class D(B, C):\n",
    "    pass"
   ]
  },
  {
   "cell_type": "raw",
   "id": "c9599280-01fa-493d-bdfc-f6e10f85df97",
   "metadata": {},
   "source": [
    "Each type of inheritance serves different purposes and allows you to create class hierarchies that model real-world relationships and promote code reuse."
   ]
  }
 ],
 "metadata": {
  "kernelspec": {
   "display_name": "Python 3 (ipykernel)",
   "language": "python",
   "name": "python3"
  },
  "language_info": {
   "codemirror_mode": {
    "name": "ipython",
    "version": 3
   },
   "file_extension": ".py",
   "mimetype": "text/x-python",
   "name": "python",
   "nbconvert_exporter": "python",
   "pygments_lexer": "ipython3",
   "version": "3.10.8"
  }
 },
 "nbformat": 4,
 "nbformat_minor": 5
}
