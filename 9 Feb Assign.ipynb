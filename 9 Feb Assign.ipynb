{
 "cells": [
  {
   "cell_type": "raw",
   "id": "01a4a998-89c4-428a-9b08-fa0f608335b9",
   "metadata": {},
   "source": [
    "Q1, Create a vehicle class with an init method having instance variables as name_of_vehicle, max_speed\n",
    "and average_of_vehicle."
   ]
  },
  {
   "cell_type": "code",
   "execution_count": 1,
   "id": "aca43662-a0ba-4350-8b6d-415de90f565e",
   "metadata": {},
   "outputs": [
    {
     "name": "stdout",
     "output_type": "stream",
     "text": [
      "Name of Vehicle: Car\n",
      "Maximum Speed: 200\n",
      "Average Speed: 60\n"
     ]
    }
   ],
   "source": [
    "class Vehicle:\n",
    "    def __init__(self, name_of_vehicle, max_speed, average_speed):\n",
    "        self.name_of_vehicle = name_of_vehicle\n",
    "        self.max_speed = max_speed\n",
    "        self.average_speed = average_speed\n",
    "\n",
    "# Example usage:\n",
    "car = Vehicle(\"Car\", 200, 60)\n",
    "print(\"Name of Vehicle:\", car.name_of_vehicle)\n",
    "print(\"Maximum Speed:\", car.max_speed)\n",
    "print(\"Average Speed:\", car.average_speed)\n"
   ]
  },
  {
   "cell_type": "raw",
   "id": "57dda4d4-99e7-418f-a6cb-471965ae7bcc",
   "metadata": {},
   "source": [
    "Q2. Create a child class car from the vehicle class created in Que 1, which will inherit the vehicle class.\n",
    "Create a method named seating_capacity which takes capacity as an argument and returns the name of\n",
    "the vehicle and its seating capacity."
   ]
  },
  {
   "cell_type": "code",
   "execution_count": 2,
   "id": "8388417b-a65e-4f95-97c2-819e35e76cd7",
   "metadata": {},
   "outputs": [
    {
     "name": "stdout",
     "output_type": "stream",
     "text": [
      "Name of Vehicle: Sedan\n",
      "Maximum Speed: 180\n",
      "Average Speed: 65\n",
      "Sedan has a seating capacity of 5 passengers.\n"
     ]
    }
   ],
   "source": [
    "class Vehicle:\n",
    "    def __init__(self, name_of_vehicle, max_speed, average_speed):\n",
    "        self.name_of_vehicle = name_of_vehicle\n",
    "        self.max_speed = max_speed\n",
    "        self.average_speed = average_speed\n",
    "\n",
    "class Car(Vehicle):\n",
    "    def seating_capacity(self, capacity):\n",
    "        return f\"{self.name_of_vehicle} has a seating capacity of {capacity} passengers.\"\n",
    "\n",
    "# Example usage:\n",
    "car = Car(\"Sedan\", 180, 65)\n",
    "print(\"Name of Vehicle:\", car.name_of_vehicle)\n",
    "print(\"Maximum Speed:\", car.max_speed)\n",
    "print(\"Average Speed:\", car.average_speed)\n",
    "\n",
    "capacity = 5\n",
    "result = car.seating_capacity(capacity)\n",
    "print(result)"
   ]
  },
  {
   "cell_type": "raw",
   "id": "bbf16d2e-5d85-4089-930e-36c1bf847f26",
   "metadata": {},
   "source": [
    "Q3. What is multiple inheritance? Write a python code to demonstrate multiple inheritance."
   ]
  },
  {
   "cell_type": "code",
   "execution_count": 3,
   "id": "c2097a7d-e403-41c4-8405-cf05010524de",
   "metadata": {},
   "outputs": [
    {
     "name": "stdout",
     "output_type": "stream",
     "text": [
      "Sparrow chirps.\n",
      "None\n",
      "Buddy barks.\n",
      "The airplane is flying.\n"
     ]
    }
   ],
   "source": [
    "# Parent class 1\n",
    "class Animal:\n",
    "    def __init__(self, name):\n",
    "        self.name = name\n",
    "\n",
    "    def speak(self):\n",
    "        pass\n",
    "\n",
    "# Parent class 2\n",
    "class Flyable:\n",
    "    def fly(self):\n",
    "        pass\n",
    "\n",
    "# Child class inheriting from both Animal and Flyable\n",
    "class Bird(Animal, Flyable):\n",
    "    def speak(self):\n",
    "        return f\"{self.name} chirps.\"\n",
    "\n",
    "# Child class inheriting only from Animal\n",
    "class Dog(Animal):\n",
    "    def speak(self):\n",
    "        return f\"{self.name} barks.\"\n",
    "\n",
    "# Child class inheriting only from Flyable\n",
    "class Airplane(Flyable):\n",
    "    def fly(self):\n",
    "        return \"The airplane is flying.\"\n",
    "\n",
    "# Example usage:\n",
    "bird = Bird(\"Sparrow\")\n",
    "dog = Dog(\"Buddy\")\n",
    "airplane = Airplane()\n",
    "\n",
    "print(bird.speak()) \n",
    "print(bird.fly())   \n",
    "\n",
    "print(dog.speak())  \n",
    "\n",
    "print(airplane.fly())\n"
   ]
  },
  {
   "cell_type": "raw",
   "id": "3020b921-921a-4187-b494-b7ad4f4e9930",
   "metadata": {},
   "source": [
    "Q4. What are getter and setter in python? Create a class and create a getter and a setter method in this\n",
    "class."
   ]
  },
  {
   "cell_type": "code",
   "execution_count": 4,
   "id": "4aa3a68e-7887-48e8-b644-b5993d58f966",
   "metadata": {},
   "outputs": [
    {
     "name": "stdout",
     "output_type": "stream",
     "text": [
      "Initial Name: Alice\n",
      "Initial Age: 20\n",
      "Updated Name: Bob\n",
      "Updated Age: 25\n",
      "Name must be a string.\n",
      "Age must be a positive integer.\n"
     ]
    }
   ],
   "source": [
    "class Student:\n",
    "    def __init__(self, name, age):\n",
    "        self._name = name  # Private attribute\n",
    "        self._age = age    # Private attribute\n",
    "\n",
    "    # Getter method for name\n",
    "    def get_name(self):\n",
    "        return self._name\n",
    "\n",
    "    # Setter method for name\n",
    "    def set_name(self, name):\n",
    "        if isinstance(name, str):\n",
    "            self._name = name\n",
    "        else:\n",
    "            print(\"Name must be a string.\")\n",
    "\n",
    "    # Getter method for age\n",
    "    def get_age(self):\n",
    "        return self._age\n",
    "\n",
    "    # Setter method for age\n",
    "    def set_age(self, age):\n",
    "        if isinstance(age, int) and age >= 0:\n",
    "            self._age = age\n",
    "        else:\n",
    "            print(\"Age must be a positive integer.\")\n",
    "\n",
    "\n",
    "student = Student(\"Alice\", 20)\n",
    "\n",
    "print(\"Initial Name:\", student.get_name())\n",
    "print(\"Initial Age:\", student.get_age())\n",
    "\n",
    "student.set_name(\"Bob\")\n",
    "student.set_age(25)\n",
    "\n",
    "print(\"Updated Name:\", student.get_name())\n",
    "print(\"Updated Age:\", student.get_age())\n",
    "\n",
    "student.set_name(123)\n",
    "student.set_age(-5)\n"
   ]
  },
  {
   "cell_type": "raw",
   "id": "cfe8e8fc-ac40-431b-b249-42b75f4dd201",
   "metadata": {},
   "source": [
    "Q5.What is method overriding in python? Write a python code to demonstrate method overriding."
   ]
  },
  {
   "cell_type": "raw",
   "id": "3c0bec11-0297-479f-95ae-2ddcf1ee77a0",
   "metadata": {},
   "source": [
    "Answer: \n",
    "Method overriding in Python is a concept in object-oriented programming where a subclass provides a specific implementation of a method that is already defined in its superclass. When a method is overridden in a subclass, the subclass version of the method is executed instead of the superclass version when the method is called on an instance of the subclass.\n",
    "Method overriding is useful when you want to provide a specialized behavior for a method in a subclass while maintaining the same method signature (method name and parameters) as in the superclass.\n",
    "Here's an example of method overriding in Python:"
   ]
  },
  {
   "cell_type": "code",
   "execution_count": 5,
   "id": "c3a7d79a-f78c-4d15-87c7-810af0bc4594",
   "metadata": {},
   "outputs": [
    {
     "name": "stdout",
     "output_type": "stream",
     "text": [
      "Animal speaks\n",
      "Dog barks\n",
      "Cat meows\n"
     ]
    }
   ],
   "source": [
    "class Animal:\n",
    "    def speak(self):\n",
    "        print(\"Animal speaks\")\n",
    "\n",
    "class Dog(Animal):\n",
    "    def speak(self):\n",
    "        print(\"Dog barks\")\n",
    "\n",
    "class Cat(Animal):\n",
    "    def speak(self):\n",
    "        print(\"Cat meows\")\n",
    "\n",
    "# Create instances of the classes\n",
    "animal = Animal()\n",
    "dog = Dog()\n",
    "cat = Cat()\n",
    "\n",
    "animal.speak()  \n",
    "dog.speak()     \n",
    "cat.speak()     "
   ]
  },
  {
   "cell_type": "raw",
   "id": "e529017a-e597-48a0-8a5f-f738c8d5729b",
   "metadata": {},
   "source": [
    "In this example, we have a base class Animal with a speak method. The Dog and Cat subclasses both override the speak method with their own implementations. When we create instances of these classes and call the speak method, the appropriate overridden method is executed for each instance.\n",
    "\n",
    "Method overriding allows you to customize the behavior of methods in subclasses while maintaining a consistent interface defined by the superclass."
   ]
  }
 ],
 "metadata": {
  "kernelspec": {
   "display_name": "Python 3 (ipykernel)",
   "language": "python",
   "name": "python3"
  },
  "language_info": {
   "codemirror_mode": {
    "name": "ipython",
    "version": 3
   },
   "file_extension": ".py",
   "mimetype": "text/x-python",
   "name": "python",
   "nbconvert_exporter": "python",
   "pygments_lexer": "ipython3",
   "version": "3.10.8"
  }
 },
 "nbformat": 4,
 "nbformat_minor": 5
}
