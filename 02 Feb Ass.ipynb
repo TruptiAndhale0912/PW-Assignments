{
 "cells": [
  {
   "cell_type": "raw",
   "id": "49a609e7-b9fd-478a-b28d-bc431789afbd",
   "metadata": {},
   "source": [
    "Q1. What are the characteristics of the tuples? Is tuple immutable?\n",
    "ans:Tuple() Python refers to one of the four built-in data types in Python that are used to store collections of objects separated by commas within a single variable. \n",
    "Characteristics of Tuples\n",
    "Tuples have the given characteristics:\n",
    "\n",
    "They are indexed\n",
    "Tuples are ordered\n",
    "These are immutable\n",
    "They can contain duplicate items\n",
    "\n",
    "Tuple in Python refers to a collection that is ordered. The elements cannot be changed once it is assigned. Therefore, these are immutable after being assigned. A tuple collects the same or different collections of objects. Thus, the round brackets () separate each element in a tuple."
   ]
  },
  {
   "cell_type": "raw",
   "id": "769731b8-68c2-45fa-a3a4-c1e9557d7e07",
   "metadata": {},
   "source": [
    "Q2. What are the two tuple methods in python? Give an example of each method. Give a reason why\n",
    "tuples have only two in-built methods as compared to Lists.\n",
    "Ans: Python has two built-in methods that you can use on tuples.\n",
    "\n",
    "Method\tDescription\n",
    "count()\tReturns the number of times a specified value occurs in a tuple\n",
    "index()\tSearches the tuple for a specified value and returns the position of where it was found\n",
    "\n",
    "\n"
   ]
  },
  {
   "cell_type": "code",
   "execution_count": 43,
   "id": "a5564368-6d57-4a85-8960-371bd742feca",
   "metadata": {},
   "outputs": [
    {
     "name": "stdout",
     "output_type": "stream",
     "text": [
      "Count of 3 in Tuple1 is: 3\n"
     ]
    }
   ],
   "source": [
    "# Creating tuples\n",
    "Tuple1 = (0, 1, 2, 3, 2, 3, 1, 3, 2)\n",
    "Tuple2 = ('python', 'geek', 'python',\n",
    "\t\t'for', 'java', 'python')\n",
    "\n",
    "# count the appearance of 3\n",
    "res = Tuple1.count(3)\n",
    "print('Count of 3 in Tuple1 is:', res)\n"
   ]
  },
  {
   "cell_type": "raw",
   "id": "fc476561-5e79-4bfd-b5e8-84bb5e84d852",
   "metadata": {},
   "source": [
    "Index() Method\n",
    "The Index() method returns the first occurrence of the given element from the tuple."
   ]
  },
  {
   "cell_type": "code",
   "execution_count": 44,
   "id": "fa15520a-b72a-49bb-b100-df7e87e5cedc",
   "metadata": {},
   "outputs": [
    {
     "name": "stdout",
     "output_type": "stream",
     "text": [
      "First occurrence of 3 is 3\n"
     ]
    }
   ],
   "source": [
    "# Creating tuples\n",
    "Tuple = (0, 1, 2, 3, 2, 3, 1, 3, 2)\n",
    "\n",
    "# getting the index of 3\n",
    "res = Tuple.index(3)\n",
    "print('First occurrence of 3 is', res)"
   ]
  },
  {
   "cell_type": "raw",
   "id": "2df0d457-4e21-4e83-ab6e-5d610b62950a",
   "metadata": {},
   "source": [
    "Q3. Which collection datatypes in python do not allow duplicate items? Write a code using a set to remove\n",
    "duplicates from the given list.\n",
    "List = [1, 1, 1, 2, 1, 3, 1, 4, 2, 1, 2, 2, 2, 3, 2, 4, 3, 1, 3, 2, 3, 3, 3, 4, 4, 1, 4, 2, 4, 3, 4, 4]"
   ]
  },
  {
   "cell_type": "raw",
   "id": "41d6d97d-371c-4cf6-bd4a-c85de441cd4a",
   "metadata": {},
   "source": [
    "Set is a collection which is unordered, unchangeable*, and unindexed. No duplicate members."
   ]
  },
  {
   "cell_type": "code",
   "execution_count": 55,
   "id": "4f49adf8-54a1-48a6-a03a-0d0d049c5ca6",
   "metadata": {},
   "outputs": [],
   "source": [
    "l1 = [1, 1, 1, 2, 1, 3, 1, 4, 2, 1, 2, 2, 2, 3, 2, 4, 3, 1, 3, 2, 3, 3, 3, 4, 4, 1, 4, 2, 4, 3, 4, 4]        "
   ]
  },
  {
   "cell_type": "raw",
   "id": "6b5ccaee-2801-4108-bd3f-e02157f488e4",
   "metadata": {},
   "source": [
    "Q4. Explain the difference between the union() and update() methods for a set. Give an example of\n",
    "each method.\n",
    "Ans:1.update method()\n",
    "The update() method updates the current set, by adding items from another set.\n",
    "\n",
    "example:"
   ]
  },
  {
   "cell_type": "code",
   "execution_count": 37,
   "id": "b8121abf-7ebc-4179-ac2d-10617be2edb9",
   "metadata": {},
   "outputs": [
    {
     "name": "stdout",
     "output_type": "stream",
     "text": [
      "{'two', 'mango', 'one', 'apple', 'orange'}\n"
     ]
    }
   ],
   "source": [
    "set1 = {\"apple\", \"mango\", \"orange\"}\n",
    "set2 = {\"one\", \"two\", \"mango\"}\n",
    "set1.update(set2)\n",
    "print(set1)"
   ]
  },
  {
   "cell_type": "raw",
   "id": "7e3cbcc3-e8f5-4f0a-ab8d-c80b0fd0981b",
   "metadata": {},
   "source": [
    "2.union method()\n",
    "union method return a set as a new set all elements that are in both set."
   ]
  },
  {
   "cell_type": "code",
   "execution_count": 39,
   "id": "cde76e52-33f0-4937-8851-60ca5bfe2bd2",
   "metadata": {},
   "outputs": [
    {
     "name": "stdout",
     "output_type": "stream",
     "text": [
      "{'two', 'mango', 'one', 'apple', 'orange'}\n"
     ]
    }
   ],
   "source": [
    "set1 = {\"apple\", \"mango\", \"orange\"}\n",
    "set2 = {\"one\", \"two\", \"mango\"}\n",
    "set3 = set1.union(set2)\n",
    "print(set3)"
   ]
  },
  {
   "cell_type": "raw",
   "id": "327e4e41-b7cb-45ea-843f-7c3122d4f334",
   "metadata": {},
   "source": [
    "Q5. What is a dictionary? Give an example. Also, state whether a dictionary is ordered or unordered.\n",
    "Ans: The dictionary is an unordered collection that contains key:value pairs separated by commas inside curly brackets. Dictionaries are optimized to retrieve values when the key is known."
   ]
  },
  {
   "cell_type": "code",
   "execution_count": 56,
   "id": "42fd9629-83a2-4d25-ae12-70f7b6bafd33",
   "metadata": {},
   "outputs": [
    {
     "name": "stdout",
     "output_type": "stream",
     "text": [
      "{1: 'Geeks', 2: 'For', 3: 'Geeks'}\n"
     ]
    }
   ],
   "source": [
    "Dict = {1: 'Geeks', 2: 'For', 3: 'Geeks'}\n",
    "print(Dict)"
   ]
  },
  {
   "cell_type": "raw",
   "id": "855bbc57-fc5e-41dd-9c3c-6dfcf59b3074",
   "metadata": {},
   "source": [
    "Q6. Can we create a nested dictionary? If so, please give an example by creating a simple one-level\n",
    "nested dictionary.\n",
    "Ans: In Python, a nested dictionary is a dictionary inside a dictionary. It's a collection of dictionaries into one single dictionary."
   ]
  },
  {
   "cell_type": "code",
   "execution_count": 58,
   "id": "589ea545-b48e-4b3c-976f-8e200e1590a3",
   "metadata": {},
   "outputs": [
    {
     "name": "stdout",
     "output_type": "stream",
     "text": [
      "{'dictA': {'key_1': 'value_1'}, 'dictB': {'key_2': 'value_2'}}\n"
     ]
    }
   ],
   "source": [
    "nested_dict = { 'dictA': {'key_1': 'value_1'},\n",
    "                'dictB': {'key_2': 'value_2'}}\n",
    "print(nested_dict)"
   ]
  },
  {
   "cell_type": "raw",
   "id": "992d4f5a-785a-4b3b-a5e0-26909a81a429",
   "metadata": {},
   "source": [
    "Q7. Using setdefault() method, create key named topics in the given dictionary and also add the value of\n",
    "the key as this list ['Python', 'Machine Learning’, 'Deep Learning']\n"
   ]
  },
  {
   "cell_type": "code",
   "execution_count": 64,
   "id": "72e7c650-daca-4e90-bba4-74d28bbee535",
   "metadata": {},
   "outputs": [
    {
     "name": "stdout",
     "output_type": "stream",
     "text": [
      "{'language': 'Python', 'course': 'Data Science Masters', 'topics': ['Python', 'Machine Learning', 'Deep Learning']}\n"
     ]
    }
   ],
   "source": [
    "dict1 = {'language' : 'Python', 'course': 'Data Science Masters'}\n",
    "dict1.setdefault('topics', ['Python', 'Machine Learning', 'Deep Learning'])\n",
    "print(dict1)"
   ]
  },
  {
   "cell_type": "raw",
   "id": "d343e679-8656-4e44-a1c8-39e597ab3708",
   "metadata": {},
   "source": [
    "Q8. What are the three view objects in dictionaries? Use the three in-built methods in python to display\n",
    "these three view objects for the given dictionary.\n"
   ]
  },
  {
   "cell_type": "code",
   "execution_count": 65,
   "id": "36e7e28a-e1b8-4982-a986-be472966fbca",
   "metadata": {},
   "outputs": [
    {
     "name": "stdout",
     "output_type": "stream",
     "text": [
      "dict_keys view object: dict_keys(['Sport', 'Teams'])\n",
      "dict_values view object: dict_values(['Cricket', ['India', 'Australia', 'England', 'South Africa', 'Sri Lanka', 'New Zealand']])\n",
      "dict_items view object: dict_items([('Sport', 'Cricket'), ('Teams', ['India', 'Australia', 'England', 'South Africa', 'Sri Lanka', 'New Zealand'])])\n"
     ]
    }
   ],
   "source": [
    "dict1 = {'Sport': 'Cricket' , 'Teams': ['India', 'Australia', 'England', 'South Africa', 'Sri Lanka', 'New Zealand']}\n",
    "\n",
    "# Display dict_keys view object\n",
    "keys_view = dict1.keys()\n",
    "print(\"dict_keys view object:\", keys_view)\n",
    "\n",
    "# Display dict_values view object\n",
    "values_view = dict1.values()\n",
    "print(\"dict_values view object:\", values_view)\n",
    "\n",
    "# Display dict_items view object\n",
    "items_view = dict1.items()\n",
    "print(\"dict_items view object:\", items_view)"
   ]
  },
  {
   "cell_type": "code",
   "execution_count": null,
   "id": "a2696fc7-d68f-4009-8a92-957dbd7007ca",
   "metadata": {},
   "outputs": [],
   "source": []
  }
 ],
 "metadata": {
  "kernelspec": {
   "display_name": "Python 3 (ipykernel)",
   "language": "python",
   "name": "python3"
  },
  "language_info": {
   "codemirror_mode": {
    "name": "ipython",
    "version": 3
   },
   "file_extension": ".py",
   "mimetype": "text/x-python",
   "name": "python",
   "nbconvert_exporter": "python",
   "pygments_lexer": "ipython3",
   "version": "3.10.8"
  }
 },
 "nbformat": 4,
 "nbformat_minor": 5
}
