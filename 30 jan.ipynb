{
 "cells": [
  {
   "cell_type": "code",
   "execution_count": 1,
   "id": "b29eae6e-d554-4171-a820-d2d7a3e7554e",
   "metadata": {},
   "outputs": [],
   "source": [
    "# Question 1"
   ]
  },
  {
   "cell_type": "code",
   "execution_count": 5,
   "id": "35f74f8b-b724-44ab-8610-2dc8c121929c",
   "metadata": {},
   "outputs": [
    {
     "name": "stdin",
     "output_type": "stream",
     "text": [
      "enter your marks 95\n"
     ]
    },
    {
     "name": "stdout",
     "output_type": "stream",
     "text": [
      "Grade A\n"
     ]
    }
   ],
   "source": [
    "marks = int(input(\"enter your marks\"))\n",
    "\n",
    "if ( marks > 90 ):\n",
    "    print( \"Grade A\")\n",
    "elif ( marks > 80 and marks <= 90 ):\n",
    "    print( \"Grade B\")\n",
    "elif ( marks >= 60 and marks <=80 ):\n",
    "    print( \"Grade C\")\n",
    "else:\n",
    "    print(\"Grade D\")\n",
    "    \n"
   ]
  },
  {
   "cell_type": "code",
   "execution_count": 6,
   "id": "e4df8eb4-0149-45bd-8ec1-c5930084203f",
   "metadata": {},
   "outputs": [],
   "source": [
    "#Question 2"
   ]
  },
  {
   "cell_type": "code",
   "execution_count": 9,
   "id": "1fe5fb69-d7bc-4096-9fa8-9d646216c245",
   "metadata": {},
   "outputs": [
    {
     "name": "stdin",
     "output_type": "stream",
     "text": [
      "Enter the price 50000\n"
     ]
    },
    {
     "name": "stdout",
     "output_type": "stream",
     "text": [
      "Tax applied is 5%\n"
     ]
    }
   ],
   "source": [
    "Cost_price = int(input(\"Enter the price\"))\n",
    "\n",
    "if (Cost_price > 100000):\n",
    "    print(\"Tax applied is 15%\")\n",
    "elif (Cost_price > 50000 and Cost_price <= 100000):\n",
    "    print(\"Tax applied is 10%\")\n",
    "else:\n",
    "    print(\"Tax applied is 5%\")\n",
    "\n",
    "\n"
   ]
  },
  {
   "cell_type": "code",
   "execution_count": 11,
   "id": "74c24c28-b475-418e-ac98-eee179cca2f5",
   "metadata": {},
   "outputs": [],
   "source": [
    "#Question  3"
   ]
  },
  {
   "cell_type": "code",
   "execution_count": 29,
   "id": "a1ddfcdc-ada7-404a-89fd-23f5f6f3ff6c",
   "metadata": {},
   "outputs": [
    {
     "name": "stdin",
     "output_type": "stream",
     "text": [
      "city name pune\n"
     ]
    },
    {
     "name": "stdout",
     "output_type": "stream",
     "text": [
      "Enter correct city\n"
     ]
    }
   ],
   "source": [
    "city = str(input(\"city name\"))\n",
    "\n",
    "if (city == \"Delhi\" ):\n",
    "    print(\"Red Fort\")\n",
    "elif (city == \"Agra\"):\n",
    "    print(\"Taj Mahal\")\n",
    "elif (city == \"Jaipur\"):\n",
    "    print(\"Jal Mahal\")\n",
    "else:\n",
    "    print(\"Enter correct city\")\n",
    "\n"
   ]
  },
  {
   "cell_type": "code",
   "execution_count": 1,
   "id": "48750d37-f79c-424c-8fec-1d7a02d8d4d4",
   "metadata": {},
   "outputs": [],
   "source": [
    "# Question 4"
   ]
  },
  {
   "cell_type": "code",
   "execution_count": 2,
   "id": "ee3b90f4-4225-4606-8655-dbc17fda0bcf",
   "metadata": {},
   "outputs": [
    {
     "name": "stdout",
     "output_type": "stream",
     "text": [
      "Total Iterations required 3\n"
     ]
    }
   ],
   "source": [
    "count = 0\n",
    "number = 150\n",
    "while number > 10:\n",
    "    number = number / 3\n",
    "    count = count + 1\n",
    "print(\"Total Iterations required\",count)"
   ]
  },
  {
   "cell_type": "code",
   "execution_count": 3,
   "id": "394778fb-a9b2-41c4-9dfc-6d8665f2ff6f",
   "metadata": {},
   "outputs": [],
   "source": [
    "# Question 5"
   ]
  },
  {
   "cell_type": "raw",
   "id": "d3cbc930-e730-48d2-b6ae-676d4213bbf9",
   "metadata": {},
   "source": [
    "Answer = Python While Loop is used to execute a block of statements repeatedly until a given condition is satisfied.\n",
    "And when the condition becomes false, the line immediately after the loop in the program is executed."
   ]
  },
  {
   "cell_type": "code",
   "execution_count": 6,
   "id": "60a12d8f-10fb-4c02-9764-272c0a5b082f",
   "metadata": {},
   "outputs": [],
   "source": [
    "# Question 6"
   ]
  },
  {
   "cell_type": "code",
   "execution_count": 33,
   "id": "803a777a-0a61-4c14-906e-4011e6bb3720",
   "metadata": {},
   "outputs": [
    {
     "name": "stdout",
     "output_type": "stream",
     "text": [
      "----------------Pattern 1----------------------------------------\n",
      "1  \n",
      "3 3  \n",
      "5 5 5  \n",
      "7 7 7 7  \n",
      "9 9 9 9 9  \n",
      "11 11 11 11 11 11  \n",
      "13 13 13 13 13 13 13  \n",
      "15 15 15 15 15 15 15 15  \n",
      "----------------Pattern 2--------------------------------------\n",
      "* \n",
      "* * \n",
      "* * * \n",
      "* * * * \n",
      "* * * * * \n",
      "* * * * * * \n",
      "----------------Pattern 3---------------------------------------\n",
      "* * * * * * * \n",
      "  * * * * * * \n",
      "    * * * * * \n",
      "      * * * * \n",
      "        * * * \n",
      "          * * \n",
      "            * \n"
     ]
    }
   ],
   "source": [
    "#Alternate numbers pattern\n",
    "print('----------------Pattern 1----------------------------------------')\n",
    "rows = 8\n",
    "i = 1\n",
    "while i <= rows:\n",
    "    j = 1\n",
    "    while j <= i:\n",
    "        print((i * 2 - 1), end = \" \")\n",
    "        j = j + 1\n",
    "    i = i + 1\n",
    "    print(' ')\n",
    "\n",
    "print('----------------Pattern 2--------------------------------------')\n",
    "\n",
    "    \n",
    "i = 1\n",
    "while i < 7:\n",
    "    j = 0  \n",
    "    while j < i:\n",
    "        print('*', end=' ')\n",
    "        j = j + 1\n",
    "    print('')\n",
    "    i = i + 1\n",
    "print('----------------Pattern 3---------------------------------------')\n",
    "\n",
    "    \n",
    "rows = 7\n",
    "i = rows\n",
    "while i >= 1:\n",
    "    j = rows\n",
    "    while j > i:\n",
    "        print(' ', end=' ')\n",
    "        j -= 1\n",
    "    k = 1\n",
    "    while k <= i:\n",
    "        print('*', end=' ')\n",
    "        k += 1\n",
    "    print()\n",
    "    i -= 1"
   ]
  },
  {
   "cell_type": "code",
   "execution_count": 34,
   "id": "01a57a5c-11b1-4d37-bd00-60faa69f2e94",
   "metadata": {},
   "outputs": [],
   "source": [
    "# Question 7"
   ]
  },
  {
   "cell_type": "code",
   "execution_count": 36,
   "id": "5f410b50-ea01-4b9d-b691-60134ce6846f",
   "metadata": {},
   "outputs": [
    {
     "name": "stdout",
     "output_type": "stream",
     "text": [
      "10 9 8 7 6 5 4 3 2 1 0 "
     ]
    }
   ],
   "source": [
    "i = 10\n",
    "\n",
    "while i>=0:\n",
    "    print(i, end=' ')\n",
    "    i = i-1"
   ]
  },
  {
   "cell_type": "code",
   "execution_count": null,
   "id": "b307d312-d9d7-48ed-9f2e-1ce0f7c2aa4f",
   "metadata": {},
   "outputs": [],
   "source": [
    "# Question 8"
   ]
  },
  {
   "cell_type": "code",
   "execution_count": 37,
   "id": "e7209b08-2060-48b6-bd7b-8ea3fd130bb2",
   "metadata": {},
   "outputs": [
    {
     "name": "stdout",
     "output_type": "stream",
     "text": [
      "10 9 8 7 6 5 4 3 2 1 0 "
     ]
    }
   ],
   "source": [
    "i = 10\n",
    "\n",
    "while i>=0:\n",
    "    print(i, end=' ')\n",
    "    i = i-1"
   ]
  },
  {
   "cell_type": "code",
   "execution_count": null,
   "id": "92abe9bf-a10e-4011-b41a-2fce270454d7",
   "metadata": {},
   "outputs": [],
   "source": []
  }
 ],
 "metadata": {
  "kernelspec": {
   "display_name": "Python 3 (ipykernel)",
   "language": "python",
   "name": "python3"
  },
  "language_info": {
   "codemirror_mode": {
    "name": "ipython",
    "version": 3
   },
   "file_extension": ".py",
   "mimetype": "text/x-python",
   "name": "python",
   "nbconvert_exporter": "python",
   "pygments_lexer": "ipython3",
   "version": "3.10.8"
  }
 },
 "nbformat": 4,
 "nbformat_minor": 5
}
