{
 "cells": [
  {
   "cell_type": "raw",
   "id": "c0bab1b0-0f1c-4538-85ce-beca9e3317b0",
   "metadata": {},
   "source": [
    "# Question 1\n",
    "Write a program to accept percentage from the user and display the grade according to the following criteria:\n",
    "\n",
    "Marks\n",
    "\n",
    "Grade\n",
    "\n",
    "A\n",
    "\n",
    ">90\n",
    "\n",
    "B\n",
    "\n",
    ">80 and <=90\n",
    "\n",
    ">=60 and <=80\n",
    "\n",
    "C\n",
    "\n",
    "below 60\n",
    "\n",
    "D\n"
   ]
  },
  {
   "cell_type": "code",
   "execution_count": 7,
   "id": "35f74f8b-b724-44ab-8610-2dc8c121929c",
   "metadata": {
    "tags": []
   },
   "outputs": [
    {
     "name": "stdin",
     "output_type": "stream",
     "text": [
      "Enter your percentage:  98\n"
     ]
    },
    {
     "name": "stdout",
     "output_type": "stream",
     "text": [
      "Your grade is: A\n"
     ]
    }
   ],
   "source": [
    "percentage = float(input(\"Enter your percentage: \"))\n",
    "\n",
    "\n",
    "if percentage > 90:\n",
    "    grade = \"A\"\n",
    "elif percentage > 80:\n",
    "    grade = \"B\"\n",
    "elif percentage >= 60:\n",
    "    grade = \"C\"\n",
    "else:\n",
    "    grade = \"D\"\n",
    "\n",
    "\n",
    "print(\"Your grade is:\",grade)"
   ]
  },
  {
   "cell_type": "raw",
   "id": "16bf8b90-199d-4e58-829a-87e09b2a86fc",
   "metadata": {},
   "source": [
    "#Question 2\n",
    "Write a program to accept the cost price of a bike and display the road tax to be paid according to the following criteria:\n",
    "\n",
    "Tax\n",
    "\n",
    "Cost Price(in Rs)\n",
    "\n",
    "15%\n",
    "\n",
    ">50000 and <= 100000\n",
    "\n",
    "10%\n",
    "\n",
    "5%\n",
    "\n",
    "<= 50000"
   ]
  },
  {
   "cell_type": "code",
   "execution_count": 12,
   "id": "1fe5fb69-d7bc-4096-9fa8-9d646216c245",
   "metadata": {},
   "outputs": [
    {
     "name": "stdin",
     "output_type": "stream",
     "text": [
      "Enter the cost price of the bike (in Rs):  45000\n"
     ]
    },
    {
     "name": "stdout",
     "output_type": "stream",
     "text": [
      "The road tax to be paid is Rs. 2250.0\n"
     ]
    }
   ],
   "source": [
    "cost_price = float(input(\"Enter the cost price of the bike (in Rs): \"))\n",
    "\n",
    "if cost_price > 50000 and cost_price <= 100000:\n",
    "    road_tax = cost_price * 0.15\n",
    "elif cost_price <= 50000:\n",
    "    road_tax = cost_price * 0.05\n",
    "else:\n",
    "    road_tax = cost_price * 0.10\n",
    "\n",
    "print(\"The road tax to be paid is Rs.\",road_tax)"
   ]
  },
  {
   "cell_type": "raw",
   "id": "d039f60a-bc09-4281-8bcb-a3ea74fbb683",
   "metadata": {},
   "source": [
    "#Question  3\n",
    "Accept any city from the user and display monuments of that city.\n",
    "\n",
    "City\n",
    "\n",
    "Monument\n",
    "\n",
    "Delhi\n",
    "\n",
    "Red Fort\n",
    "\n",
    "Agra\n",
    "\n",
    "Taj Mahal\n",
    "\n",
    "Jaipur\n",
    "\n",
    "Jal Mahal"
   ]
  },
  {
   "cell_type": "code",
   "execution_count": 1,
   "id": "a1ddfcdc-ada7-404a-89fd-23f5f6f3ff6c",
   "metadata": {},
   "outputs": [
    {
     "name": "stdin",
     "output_type": "stream",
     "text": [
      "Enter a city:  Nagpur\n"
     ]
    },
    {
     "name": "stdout",
     "output_type": "stream",
     "text": [
      "City not found in the list.\n"
     ]
    }
   ],
   "source": [
    "monuments = {\n",
    "    \"Delhi\": \"Red Fort\",\n",
    "    \"Agra\": \"Taj Mahal\",\n",
    "    \"Jaipur\": \"Jal Mahal\"\n",
    "}\n",
    "\n",
    "\n",
    "city = input(\"Enter a city: \")\n",
    "\n",
    "if city in monuments:\n",
    "    monument = monuments[city]\n",
    "    print(f\"The monument in {city} is {monument}.\")\n",
    "else:\n",
    "    print(\"City not found in the list.\")"
   ]
  },
  {
   "cell_type": "raw",
   "id": "af75c879-b51c-4757-a548-4322e6855ace",
   "metadata": {},
   "source": [
    "# Question 4\n",
    "Check how many times a given number can be divided by 3 before it is less than or equal to 10"
   ]
  },
  {
   "cell_type": "code",
   "execution_count": 7,
   "id": "ee3b90f4-4225-4606-8655-dbc17fda0bcf",
   "metadata": {},
   "outputs": [
    {
     "name": "stdin",
     "output_type": "stream",
     "text": [
      "Enter a number:  60\n"
     ]
    },
    {
     "name": "stdout",
     "output_type": "stream",
     "text": [
      "The number 6.666666666666667 can be divided by 3 2 times before it's less than or equal to 10.\n"
     ]
    }
   ],
   "source": [
    "x = int(input(\"Enter a number: \"))\n",
    "\n",
    "count = 0\n",
    "\n",
    "while x > 10:\n",
    "    x = x / 3\n",
    "    count += 1\n",
    "print(f\"The number {x} can be divided by 3 {count} times before it's less than or equal to 10.\")\n"
   ]
  },
  {
   "cell_type": "raw",
   "id": "31bf3786-9992-4532-bc9f-93e138786577",
   "metadata": {},
   "source": [
    "# Question 5\n",
    "Why and when to use while loop in python  give a detailed description with example"
   ]
  },
  {
   "cell_type": "raw",
   "id": "d3cbc930-e730-48d2-b6ae-676d4213bbf9",
   "metadata": {},
   "source": [
    "Answer = A `while` loop in Python is used to repeatedly execute a block of code as long as a specific condition remains true. It's used when the number of iterations is not known in advance, and you want to keep running the loop until the condition becomes false. Always make sure that the loop condition eventually becomes false to prevent infinite loops.\n",
    "In this example, the while loop runs as long as count is greater than 0, and it prints the value of count in each iteration until the condition becomes false."
   ]
  },
  {
   "cell_type": "code",
   "execution_count": 8,
   "id": "34431fbf-20d9-46c0-8971-2a19aaa4c458",
   "metadata": {},
   "outputs": [
    {
     "name": "stdout",
     "output_type": "stream",
     "text": [
      "5\n",
      "4\n",
      "3\n",
      "2\n",
      "1\n",
      "Done\n"
     ]
    }
   ],
   "source": [
    "count = 5\n",
    "\n",
    "while count > 0:\n",
    "    print(count)\n",
    "    count -= 1\n",
    "\n",
    "print(\"Done\")\n"
   ]
  },
  {
   "cell_type": "raw",
   "id": "c7745564-3807-42b2-af58-fd80bc34d9c2",
   "metadata": {},
   "source": [
    "# Question 6"
   ]
  },
  {
   "cell_type": "raw",
   "id": "5f8727be-5d33-449f-9c66-397e4a0a8371",
   "metadata": {},
   "source": [
    "Use a nested while loop to print three different patterns"
   ]
  },
  {
   "cell_type": "code",
   "execution_count": 33,
   "id": "803a777a-0a61-4c14-906e-4011e6bb3720",
   "metadata": {},
   "outputs": [
    {
     "name": "stdout",
     "output_type": "stream",
     "text": [
      "----------------Pattern 1----------------------------------------\n",
      "1  \n",
      "3 3  \n",
      "5 5 5  \n",
      "7 7 7 7  \n",
      "9 9 9 9 9  \n",
      "11 11 11 11 11 11  \n",
      "13 13 13 13 13 13 13  \n",
      "15 15 15 15 15 15 15 15  \n",
      "----------------Pattern 2--------------------------------------\n",
      "* \n",
      "* * \n",
      "* * * \n",
      "* * * * \n",
      "* * * * * \n",
      "* * * * * * \n",
      "----------------Pattern 3---------------------------------------\n",
      "* * * * * * * \n",
      "  * * * * * * \n",
      "    * * * * * \n",
      "      * * * * \n",
      "        * * * \n",
      "          * * \n",
      "            * \n"
     ]
    }
   ],
   "source": [
    "#Alternate numbers pattern\n",
    "print('----------------Pattern 1----------------------------------------')\n",
    "rows = 8\n",
    "i = 1\n",
    "while i <= rows:\n",
    "    j = 1\n",
    "    while j <= i:\n",
    "        print((i * 2 - 1), end = \" \")\n",
    "        j = j + 1\n",
    "    i = i + 1\n",
    "    print(' ')\n",
    "\n",
    "print('----------------Pattern 2--------------------------------------')\n",
    "\n",
    "    \n",
    "i = 1\n",
    "while i < 7:\n",
    "    j = 0  \n",
    "    while j < i:\n",
    "        print('*', end=' ')\n",
    "        j = j + 1\n",
    "    print('')\n",
    "    i = i + 1\n",
    "print('----------------Pattern 3---------------------------------------')\n",
    "\n",
    "    \n",
    "rows = 7\n",
    "i = rows\n",
    "while i >= 1:\n",
    "    j = rows\n",
    "    while j > i:\n",
    "        print(' ', end=' ')\n",
    "        j -= 1\n",
    "    k = 1\n",
    "    while k <= i:\n",
    "        print('*', end=' ')\n",
    "        k += 1\n",
    "    print()\n",
    "    i -= 1"
   ]
  },
  {
   "cell_type": "raw",
   "id": "75bf73f0-1c85-4732-9515-5a4419165f22",
   "metadata": {},
   "source": [
    "# Question 7\n",
    "Reverse a while loop to display numbers from 10 to 1"
   ]
  },
  {
   "cell_type": "code",
   "execution_count": 10,
   "id": "5f410b50-ea01-4b9d-b691-60134ce6846f",
   "metadata": {},
   "outputs": [
    {
     "name": "stdout",
     "output_type": "stream",
     "text": [
      "10\n",
      "9\n",
      "8\n",
      "7\n",
      "6\n",
      "5\n",
      "4\n",
      "3\n",
      "2\n",
      "1\n",
      "Done\n"
     ]
    }
   ],
   "source": [
    "count = 10\n",
    "\n",
    "while count >= 1:\n",
    "    print(count)\n",
    "    count -= 1\n",
    "print('Done')"
   ]
  },
  {
   "cell_type": "raw",
   "id": "41bb105a-da9b-4d84-8028-57b3a622d8ee",
   "metadata": {},
   "source": [
    "# Question 8\n",
    "Reverse a while loop to display numbers from 10 to 1"
   ]
  },
  {
   "cell_type": "code",
   "execution_count": 11,
   "id": "e7209b08-2060-48b6-bd7b-8ea3fd130bb2",
   "metadata": {},
   "outputs": [
    {
     "name": "stdout",
     "output_type": "stream",
     "text": [
      "10\n",
      "9\n",
      "8\n",
      "7\n",
      "6\n",
      "5\n",
      "4\n",
      "3\n",
      "2\n",
      "1\n",
      "Done\n"
     ]
    }
   ],
   "source": [
    "count = 10\n",
    "\n",
    "while count >= 1:\n",
    "    print(count)\n",
    "    count -= 1\n",
    "print('Done')"
   ]
  },
  {
   "cell_type": "code",
   "execution_count": null,
   "id": "92abe9bf-a10e-4011-b41a-2fce270454d7",
   "metadata": {},
   "outputs": [],
   "source": []
  }
 ],
 "metadata": {
  "kernelspec": {
   "display_name": "Python 3 (ipykernel)",
   "language": "python",
   "name": "python3"
  },
  "language_info": {
   "codemirror_mode": {
    "name": "ipython",
    "version": 3
   },
   "file_extension": ".py",
   "mimetype": "text/x-python",
   "name": "python",
   "nbconvert_exporter": "python",
   "pygments_lexer": "ipython3",
   "version": "3.10.8"
  }
 },
 "nbformat": 4,
 "nbformat_minor": 5
}
