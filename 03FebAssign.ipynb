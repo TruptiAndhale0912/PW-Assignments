{
 "cells": [
  {
   "cell_type": "raw",
   "id": "68d2ac35-2725-4e97-9254-2bff57757873",
   "metadata": {},
   "source": [
    "Q1. Which keyword is used to create a function? Create a function to return a list of odd numbers in the\n",
    "range of 1 to 25."
   ]
  },
  {
   "cell_type": "raw",
   "id": "5a822001-4d8c-468b-9a89-e9fca5560a9f",
   "metadata": {},
   "source": [
    "Answer:\n",
    "In Python, the keyword used to create a function is def. Here's a Python function that returns a list of odd numbers in the range of 1 to 25:"
   ]
  },
  {
   "cell_type": "code",
   "execution_count": 1,
   "id": "8e70750c-d8d9-4f02-ac58-cc435e2d17f3",
   "metadata": {},
   "outputs": [
    {
     "name": "stdout",
     "output_type": "stream",
     "text": [
      "[1, 3, 5, 7, 9, 11, 13, 15, 17, 19, 21, 23, 25]\n"
     ]
    }
   ],
   "source": [
    "def find_odd_numbers():\n",
    "    odd_numbers = []\n",
    "    for number in range(1, 26):\n",
    "        if number % 2 != 0:\n",
    "            odd_numbers.append(number)\n",
    "    return odd_numbers\n",
    "\n",
    "odd_numbers_list = find_odd_numbers()\n",
    "print(odd_numbers_list)\n"
   ]
  },
  {
   "cell_type": "raw",
   "id": "ffa01f20-3f4d-406f-aad3-0f43435f4df4",
   "metadata": {},
   "source": [
    "This function, find_odd_numbers, defines an empty list odd_numbers and then uses a for loop to iterate through numbers in the range of 1 to 25. It checks if each number is odd (by checking if it's not divisible by 2) and appends it to the odd_numbers list if it's odd. Finally, it returns the list of odd numbers. When you call the function and print the result, it will display the list of odd numbers from 1 to 25."
   ]
  },
  {
   "cell_type": "raw",
   "id": "70663931-60dc-4e1e-9f04-6a97067a8326",
   "metadata": {},
   "source": [
    "Q2. Why *args and **kwargs is used in some functions? Create a function each for *args and **kwargs to\n",
    "demonstrate their use.\n",
    "Answer:\n",
    "*args and **kwargs are special syntax in Python used in function definitions to allow a function to accept a variable number of arguments. They are often used when you don't know beforehand how many arguments will be passed to a function or when you want to make a function more flexible.\n",
    "1. *args (Arbitrary Arguments):\n",
    "   -Allows variable non-keyword arguments.\n",
    "   -Collects arguments into a tuple."
   ]
  },
  {
   "cell_type": "code",
   "execution_count": 2,
   "id": "e954446f-ac22-4571-81ad-b841b728d534",
   "metadata": {},
   "outputs": [
    {
     "name": "stdout",
     "output_type": "stream",
     "text": [
      "6\n"
     ]
    }
   ],
   "source": [
    "def sum_numbers(*args):\n",
    "    result = 0\n",
    "    for num in args:\n",
    "        result += num\n",
    "    return result\n",
    "\n",
    "print(sum_numbers(1, 2, 3))"
   ]
  },
  {
   "cell_type": "raw",
   "id": "8fff90d5-3e0c-4dd8-81e3-2d09eccb5074",
   "metadata": {},
   "source": [
    "2. **kwargs (Keyword Arguments):\n",
    "    -Allows variable keyword arguments.\n",
    "    -Collects arguments into a dictionary."
   ]
  },
  {
   "cell_type": "code",
   "execution_count": 3,
   "id": "f59e4853-911b-4507-b8d8-a5d8774a629a",
   "metadata": {},
   "outputs": [
    {
     "name": "stdout",
     "output_type": "stream",
     "text": [
      "name: Alice\n",
      "age: 30\n"
     ]
    }
   ],
   "source": [
    "def display_info(**kwargs):\n",
    "    for key, value in kwargs.items():\n",
    "        print(f\"{key}: {value}\")\n",
    "\n",
    "display_info(name=\"Alice\", age=30)"
   ]
  },
  {
   "cell_type": "raw",
   "id": "6c346724-4a1e-4efa-a459-bd9c8386263a",
   "metadata": {},
   "source": [
    "Q3. What is an iterator in python? Name the method used to initialise the iterator object and the method\n",
    "used for iteration. Use these methods to print the first five elements of the given list [2, 4, 6, 8, 10, 12, 14, 16,\n",
    "18, 20].\n",
    "Answer:\n",
    "An iterator in Python is like a conveyor belt that moves through a collection of items (like a list) one at a time. You can get the next item from it until there are no more items left.\n",
    "To initialize an iterator, you use the iter() method, and to get the next item, you use the next() method.\n",
    "Here's how to print the first five elements of the list [2, 4, 6, 8, 10, 12, 14, 16, 18, 20] using an iterator\n",
    "This code creates an iterator for the list and prints the first five items one by one."
   ]
  },
  {
   "cell_type": "raw",
   "id": "3529d7c8-5927-4da9-ace5-6470212f81ad",
   "metadata": {},
   "source": [
    "my_list = [2, 4, 6, 8, 10, 12, 14, 16, 18, 20]\n",
    "my_iterator = iter(my_list)\n",
    "\n",
    "for _ in range(5):\n",
    "    item = next(my_iterator)\n",
    "    print(item)"
   ]
  },
  {
   "cell_type": "raw",
   "id": "470a8e54-081e-4b76-84ad-47cb12169973",
   "metadata": {},
   "source": [
    "Q4. What is a generator function in python? Why yield keyword is used? Give an example of a generator\n",
    "function.\n",
    "Answer:\n",
    "A generator function in Python is like a magical function that can produce a series of values one at a time, without needing to remember all of them at once. It's like a conveyor belt that delivers items one by one, and the yield keyword is like a pause button for this conveyor belt.\n",
    "In this example, the countdown generator function counts down from a number you provide (in this case, 5) and yields each number one at a time when you use next() to get the next value. The generator function \"pauses\" at the yield statement and remembers where it stopped, so you can continue getting values from it until it's done.\n",
    "This is useful when you have a lot of data or need to generate a sequence of values on-the-fly because it doesn't use up a lot of memory, and you only compute and use the values you need when you need them."
   ]
  },
  {
   "cell_type": "code",
   "execution_count": 5,
   "id": "02f1828e-a573-49e7-9685-bb8d5534e78f",
   "metadata": {},
   "outputs": [
    {
     "name": "stdout",
     "output_type": "stream",
     "text": [
      "5\n",
      "4\n",
      "3\n"
     ]
    }
   ],
   "source": [
    "def countdown(n):\n",
    "    while n > 0:\n",
    "        yield n\n",
    "        n -= 1\n",
    "counter = countdown(5)\n",
    "print(next(counter)) \n",
    "print(next(counter))  \n",
    "print(next(counter))  "
   ]
  },
  {
   "cell_type": "raw",
   "id": "438e0496-ae3c-4ce4-9428-a17bfb03def0",
   "metadata": {},
   "source": [
    "Q5. Create a generator function for prime numbers less than 1000. Use the next() method to print the\n",
    "first 20 prime numbers."
   ]
  },
  {
   "cell_type": "code",
   "execution_count": 6,
   "id": "0cf88e07-274b-4945-a040-de56cfee24f6",
   "metadata": {},
   "outputs": [
    {
     "name": "stdout",
     "output_type": "stream",
     "text": [
      "2\n",
      "3\n",
      "5\n",
      "7\n",
      "11\n",
      "13\n",
      "17\n",
      "19\n",
      "23\n",
      "29\n",
      "31\n",
      "37\n",
      "41\n",
      "43\n",
      "47\n",
      "53\n",
      "59\n",
      "61\n",
      "67\n",
      "71\n"
     ]
    }
   ],
   "source": [
    "def is_prime(n):\n",
    "    if n <= 1:\n",
    "        return False\n",
    "    for i in range(2, int(n**0.5) + 1):\n",
    "        if n % i == 0:\n",
    "            return False\n",
    "    return True\n",
    "\n",
    "def prime_generator():\n",
    "    n = 2\n",
    "    while True:\n",
    "        if is_prime(n):\n",
    "            yield n\n",
    "        n += 1\n",
    "\n",
    "# Create a generator\n",
    "gen = prime_generator()\n",
    "\n",
    "# Print the first 20 prime numbers\n",
    "for _ in range(20):\n",
    "    prime = next(gen)\n",
    "    print(prime)\n"
   ]
  },
  {
   "cell_type": "code",
   "execution_count": null,
   "id": "40dcc7f1-a771-4d91-a2d2-93197e7686a4",
   "metadata": {},
   "outputs": [],
   "source": []
  }
 ],
 "metadata": {
  "kernelspec": {
   "display_name": "Python 3 (ipykernel)",
   "language": "python",
   "name": "python3"
  },
  "language_info": {
   "codemirror_mode": {
    "name": "ipython",
    "version": 3
   },
   "file_extension": ".py",
   "mimetype": "text/x-python",
   "name": "python",
   "nbconvert_exporter": "python",
   "pygments_lexer": "ipython3",
   "version": "3.10.8"
  }
 },
 "nbformat": 4,
 "nbformat_minor": 5
}
