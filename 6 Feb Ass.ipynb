{
 "cells": [
  {
   "cell_type": "raw",
   "id": "252dce30-c5d9-412d-8352-463160089576",
   "metadata": {},
   "source": [
    "Q1. Create a function which will take a list as an argument and return the product of all the numbers\n",
    "after creating a flat list.\n",
    "Use the below-given list as an argument for your function.\n",
    "list1 = [1,2,3,4, [44,55,66, True], False, (34,56,78,89,34), {1,2,3,3,2,1}, {1:34, \"key2\": [55, 67, 78, 89], 4: (45,\n",
    "22, 61, 34)}, [56, 'data science'], 'Machine Learning']\n",
    "Note: you must extract numeric keys and values of the dictionary also.\n"
   ]
  },
  {
   "cell_type": "code",
   "execution_count": 1,
   "id": "79413ef6-ca4e-4388-a0c1-9ddabc56cb9b",
   "metadata": {},
   "outputs": [
    {
     "name": "stdout",
     "output_type": "stream",
     "text": [
      "Product of all numbers in the flattened list: 0\n"
     ]
    }
   ],
   "source": [
    "def flatten_and_multiply(lst):\n",
    "    def flatten(input_list):\n",
    "        for item in input_list:\n",
    "            if isinstance(item, list):\n",
    "                yield from flatten(item)\n",
    "            elif isinstance(item, dict):\n",
    "                yield from flatten(item.values())\n",
    "            elif isinstance(item, (int, float)):\n",
    "                yield item\n",
    "\n",
    "    flattened_list = list(flatten(lst))\n",
    "    \n",
    "    product = 1\n",
    "    for num in flattened_list:\n",
    "        product *= num\n",
    "    \n",
    "    return product\n",
    "\n",
    "# Test the function with your provided list\n",
    "list1 = [1,2,3,4, [44,55,66, True], False, (34,56,78,89,34), {1,2,3,3,2,1}, {1:34, \"key2\": [55, 67, 78, 89], 4: (45, 22, 61, 34)}, [56, 'data science'], 'Machine Learning']\n",
    "result = flatten_and_multiply(list1)\n",
    "print(\"Product of all numbers in the flattened list:\", result)\n"
   ]
  },
  {
   "cell_type": "raw",
   "id": "1515a131-62e3-4f96-94d3-8ec0f338e2ea",
   "metadata": {},
   "source": [
    "Q2. Write a python program for encrypting a message sent to you by your friend. The logic of encryption\n",
    "should be such that, for a the output should be z. For b, the output should be y. For c, the output should\n",
    "be x respectively. Also, the whitespace should be replaced with a dollar sign. Keep the punctuation\n",
    "marks unchanged.\n",
    "Input Sentence: I want to become a Data Scientist.\n",
    "Encrypt the above input sentence using the program you just created.\n",
    "Note: Convert the given input sentence into lowercase before encrypting. The final output should be\n",
    "lowercase.\n"
   ]
  },
  {
   "cell_type": "code",
   "execution_count": 3,
   "id": "4d4401c3-7749-4ad3-85da-ce10100b083c",
   "metadata": {},
   "outputs": [
    {
     "name": "stdout",
     "output_type": "stream",
     "text": [
      "Encrypted Sentence: r$dzmg$gl$yvxlnv$z$wzgz$hxrvmgrhg.\n"
     ]
    }
   ],
   "source": [
    "def encrypt_message(message):\n",
    "    encrypted_message = []\n",
    "    \n",
    "    for char in message:\n",
    "        if char.isalpha():\n",
    "            char_code = ord(char.lower())\n",
    "            \n",
    "            if 'a' <= char <= 'z':\n",
    "                encrypted_char = chr(ord('z') - (char_code - ord('a')))\n",
    "            else:\n",
    "                \n",
    "                encrypted_char = char\n",
    "        elif char.isspace():\n",
    "            encrypted_char = '$'\n",
    "        else:\n",
    "            \n",
    "            encrypted_char = char\n",
    "        \n",
    "        encrypted_message.append(encrypted_char)\n",
    "    \n",
    "    return ''.join(encrypted_message)\n",
    "\n",
    "# Input sentence\n",
    "input_sentence = \"I want to become a Data Scientist.\"\n",
    "\n",
    "# input to lowercase and encrypt it\n",
    "encrypted_sentence = encrypt_message(input_sentence.lower())\n",
    "\n",
    "# Print the encrypted sentence\n",
    "print(\"Encrypted Sentence:\", encrypted_sentence)\n"
   ]
  },
  {
   "cell_type": "code",
   "execution_count": null,
   "id": "29232c59-b22c-434c-a958-226e793f0676",
   "metadata": {},
   "outputs": [],
   "source": []
  }
 ],
 "metadata": {
  "kernelspec": {
   "display_name": "Python 3 (ipykernel)",
   "language": "python",
   "name": "python3"
  },
  "language_info": {
   "codemirror_mode": {
    "name": "ipython",
    "version": 3
   },
   "file_extension": ".py",
   "mimetype": "text/x-python",
   "name": "python",
   "nbconvert_exporter": "python",
   "pygments_lexer": "ipython3",
   "version": "3.10.8"
  }
 },
 "nbformat": 4,
 "nbformat_minor": 5
}
