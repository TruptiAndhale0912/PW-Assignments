{
 "cells": [
  {
   "cell_type": "raw",
   "id": "30dfdc9a-bb9e-4fce-8f48-a3785b7211de",
   "metadata": {},
   "source": [
    "Q1. You are writing code for a company. The requirement of the company is that you create a python\n",
    "function that will check whether the password entered by the user is correct or not. The function should\n",
    "take the password as input and return the string “Valid Password” if the entered password follows the\n",
    "below-given password guidelines else it should return “Invalid Password”.\n",
    "Note: 1. The Password should contain at least two uppercase letters and at least two lowercase letters.\n",
    "2. The Password should contain at least a number and three special characters.\n",
    "3. The length of the password should be 10 characters long."
   ]
  },
  {
   "cell_type": "code",
   "execution_count": 2,
   "id": "f4ae7148-aa84-4e2b-ab64-856070fcbb3c",
   "metadata": {},
   "outputs": [
    {
     "name": "stdout",
     "output_type": "stream",
     "text": [
      "Invalid Password\n"
     ]
    }
   ],
   "source": [
    "import re\n",
    "\n",
    "def is_valid_password(password):\n",
    "    # Check the length of the password\n",
    "    if len(password) != 10:\n",
    "        return \"Invalid Password\"\n",
    "\n",
    "    # Count uppercase and lowercase letters\n",
    "    uppercase_count = sum(1 for char in password if char.isupper())\n",
    "    lowercase_count = sum(1 for char in password if char.islower())\n",
    "\n",
    "    # Check for at least two uppercase and two lowercase letters\n",
    "    if uppercase_count < 2 or lowercase_count < 2:\n",
    "        return \"Invalid Password\"\n",
    "\n",
    "    # Check for at least one digit (number)\n",
    "    if not any(char.isdigit() for char in password):\n",
    "        return \"Invalid Password\"\n",
    "\n",
    "    # Check for at least three special characters\n",
    "    special_characters = re.findall(r'[!@#$%^&*()_+{}\\[\\]:;<>,.?~\\\\]', password)\n",
    "    if len(special_characters) < 3:\n",
    "        return \"Invalid Password\"\n",
    "\n",
    "    # If all conditions are met, the password is valid\n",
    "    return \"Valid Password\"\n",
    "\n",
    "# Test the function with a password\n",
    "user_password = \"Abc123!@#de\"\n",
    "result = is_valid_password(user_password)\n",
    "print(result)\n"
   ]
  },
  {
   "cell_type": "raw",
   "id": "8d0c3f41-9210-451c-a3cf-a2e92975e201",
   "metadata": {},
   "source": [
    "Q2. Solve the below-given questions using at least one of the following:\n",
    "1. Lambda functioJ\n",
    "2. Filter functioJ\n",
    "3. Zap function\n",
    "4. List ComprehensioI"
   ]
  },
  {
   "cell_type": "raw",
   "id": "cbeeac54-8afb-49f6-9239-0decba82a7d7",
   "metadata": {},
   "source": [
    "B Check if the string starts with a particular letter"
   ]
  },
  {
   "cell_type": "code",
   "execution_count": 10,
   "id": "da5b4020-5ff0-4fb1-9cc7-93877868b0f3",
   "metadata": {},
   "outputs": [
    {
     "name": "stdout",
     "output_type": "stream",
     "text": [
      "True\n"
     ]
    }
   ],
   "source": [
    "starts_with_letter = lambda string, letter: string.startswith(letter)\n",
    "result = starts_with_letter(\"apple\", \"a\")\n",
    "print(result)  "
   ]
  },
  {
   "cell_type": "raw",
   "id": "4e6e1052-3e2b-4033-b85d-2c540795acf6",
   "metadata": {},
   "source": [
    "B Check if the string is numeric"
   ]
  },
  {
   "cell_type": "code",
   "execution_count": 11,
   "id": "1988409a-cc7c-41dd-a6dd-706226ec3bf9",
   "metadata": {},
   "outputs": [
    {
     "name": "stdout",
     "output_type": "stream",
     "text": [
      "True\n"
     ]
    }
   ],
   "source": [
    "is_numeric = lambda string: string.isnumeric()\n",
    "result = is_numeric(\"12345\")\n",
    "print(result)  "
   ]
  },
  {
   "cell_type": "raw",
   "id": "a4d81940-8c70-499c-9be3-bd7fc8a2e263",
   "metadata": {},
   "source": [
    "B Sort a list of tuples having fruit names and their quantity. [(\"mango\",99),(\"orange\",80), (\"grapes\", 1000)-"
   ]
  },
  {
   "cell_type": "code",
   "execution_count": 12,
   "id": "43a79c00-f65a-499e-980c-9dad86802eec",
   "metadata": {},
   "outputs": [
    {
     "name": "stdout",
     "output_type": "stream",
     "text": [
      "[('orange', 80), ('mango', 99), ('grapes', 1000)]\n"
     ]
    }
   ],
   "source": [
    "fruits = [(\"mango\", 99), (\"orange\", 80), (\"grapes\", 1000)]\n",
    "sorted_fruits = sorted(fruits, key=lambda x: x[1])\n",
    "print(sorted_fruits)"
   ]
  },
  {
   "cell_type": "raw",
   "id": "7ae4cb72-528b-49ef-871a-e6cbc524ace6",
   "metadata": {},
   "source": [
    "B Find the squares of numbers from 1 to 10Y"
   ]
  },
  {
   "cell_type": "code",
   "execution_count": 14,
   "id": "b93acb0f-e316-43d4-9b41-30bf99b5abbd",
   "metadata": {},
   "outputs": [
    {
     "name": "stdout",
     "output_type": "stream",
     "text": [
      "[1, 4, 9, 16, 25, 36, 49, 64, 81, 100]\n"
     ]
    }
   ],
   "source": [
    "squares = [x ** 2 for x in range(1, 11)]\n",
    "print(squares)"
   ]
  },
  {
   "cell_type": "raw",
   "id": "a18a86a4-82ff-49ea-8866-7c2d82475d2d",
   "metadata": {},
   "source": [
    "B Find the cube root of numbers from 1 to 10Y"
   ]
  },
  {
   "cell_type": "code",
   "execution_count": 16,
   "id": "f5b6aa75-5f89-4096-8fad-b7a7c904a656",
   "metadata": {},
   "outputs": [
    {
     "name": "stdout",
     "output_type": "stream",
     "text": [
      "[1.0, 1.2599210498948732, 1.4422495703074083, 1.5874010519681994, 1.7099759466766968, 1.8171205928321397, 1.912931182772389, 2.0, 2.080083823051904, 2.154434690031884]\n"
     ]
    }
   ],
   "source": [
    "cube_roots = [x ** (1/3) for x in range(1, 11)]\n",
    "print(cube_roots)"
   ]
  },
  {
   "cell_type": "raw",
   "id": "ae96c220-1c4f-46e2-ba31-9f9acdd63d7f",
   "metadata": {},
   "source": [
    "B Check if a given number is even"
   ]
  },
  {
   "cell_type": "code",
   "execution_count": 17,
   "id": "33c0c492-7360-4942-9ee3-04d71d892294",
   "metadata": {},
   "outputs": [
    {
     "name": "stdout",
     "output_type": "stream",
     "text": [
      "True\n"
     ]
    }
   ],
   "source": [
    "is_even = lambda x: x % 2 == 0\n",
    "result = is_even(6)\n",
    "print(result) \n"
   ]
  },
  {
   "cell_type": "raw",
   "id": "89604ec8-988e-46c3-9f13-9985996e0777",
   "metadata": {},
   "source": [
    "B Filter odd numbers from the given list.\n",
    "[1,2,3,4,5,6,7,8,9,10]"
   ]
  },
  {
   "cell_type": "code",
   "execution_count": 18,
   "id": "5de2a652-e5de-4754-a744-474a5fc3398e",
   "metadata": {},
   "outputs": [
    {
     "name": "stdout",
     "output_type": "stream",
     "text": [
      "[1, 3, 5, 7, 9]\n"
     ]
    }
   ],
   "source": [
    "numbers = [1, 2, 3, 4, 5, 6, 7, 8, 9, 10]\n",
    "odd_numbers = list(filter(lambda x: x % 2 != 0, numbers))\n",
    "print(odd_numbers)"
   ]
  },
  {
   "cell_type": "raw",
   "id": "a93cf42c-955a-469c-8183-35e4038a4509",
   "metadata": {},
   "source": [
    "B Sort a list of integers into positive and negative integers lists.\n",
    "[1,2,3,4,5,6,-1,-2,-3,-4,-5,0]"
   ]
  },
  {
   "cell_type": "code",
   "execution_count": 19,
   "id": "9b459de6-1aa8-4651-86e9-557be74364ab",
   "metadata": {},
   "outputs": [
    {
     "name": "stdout",
     "output_type": "stream",
     "text": [
      "Positive Numbers: [1, 2, 3, 4, 5, 6]\n",
      "Negative Numbers: [-1, -2, -3, -4, -5]\n"
     ]
    }
   ],
   "source": [
    "numbers = [1, 2, 3, 4, 5, 6, -1, -2, -3, -4, -5, 0]\n",
    "positive_numbers = [x for x in numbers if x > 0]\n",
    "negative_numbers = [x for x in numbers if x < 0]\n",
    "print(\"Positive Numbers:\", positive_numbers)\n",
    "print(\"Negative Numbers:\", negative_numbers)"
   ]
  },
  {
   "cell_type": "code",
   "execution_count": null,
   "id": "f592cc11-c88e-4563-ba75-0bfa681077db",
   "metadata": {},
   "outputs": [],
   "source": []
  }
 ],
 "metadata": {
  "kernelspec": {
   "display_name": "Python 3 (ipykernel)",
   "language": "python",
   "name": "python3"
  },
  "language_info": {
   "codemirror_mode": {
    "name": "ipython",
    "version": 3
   },
   "file_extension": ".py",
   "mimetype": "text/x-python",
   "name": "python",
   "nbconvert_exporter": "python",
   "pygments_lexer": "ipython3",
   "version": "3.10.8"
  }
 },
 "nbformat": 4,
 "nbformat_minor": 5
}
